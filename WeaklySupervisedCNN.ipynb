{
  "nbformat": 4,
  "nbformat_minor": 0,
  "metadata": {
    "colab": {
      "provenance": []
    },
    "kernelspec": {
      "name": "python3",
      "display_name": "Python 3"
    },
    "language_info": {
      "name": "python"
    }
  },
  "cells": [
    {
      "cell_type": "code",
      "execution_count": null,
      "metadata": {
        "id": "5fCCSWgWLNT0",
        "outputId": "c7d0d1c0-9073-4627-edd0-d8b013beac24",
        "colab": {
          "base_uri": "https://localhost:8080/"
        }
      },
      "outputs": [
        {
          "output_type": "stream",
          "name": "stdout",
          "text": [
            "Sun Aug 10 12:53:42 2025       \n",
            "+-----------------------------------------------------------------------------------------+\n",
            "| NVIDIA-SMI 550.54.15              Driver Version: 550.54.15      CUDA Version: 12.4     |\n",
            "|-----------------------------------------+------------------------+----------------------+\n",
            "| GPU  Name                 Persistence-M | Bus-Id          Disp.A | Volatile Uncorr. ECC |\n",
            "| Fan  Temp   Perf          Pwr:Usage/Cap |           Memory-Usage | GPU-Util  Compute M. |\n",
            "|                                         |                        |               MIG M. |\n",
            "|=========================================+========================+======================|\n",
            "|   0  Tesla T4                       Off |   00000000:00:04.0 Off |                    0 |\n",
            "| N/A   49C    P8             11W /   70W |       0MiB /  15360MiB |      0%      Default |\n",
            "|                                         |                        |                  N/A |\n",
            "+-----------------------------------------+------------------------+----------------------+\n",
            "                                                                                         \n",
            "+-----------------------------------------------------------------------------------------+\n",
            "| Processes:                                                                              |\n",
            "|  GPU   GI   CI        PID   Type   Process name                              GPU Memory |\n",
            "|        ID   ID                                                               Usage      |\n",
            "|=========================================================================================|\n",
            "|  No running processes found                                                             |\n",
            "+-----------------------------------------------------------------------------------------+\n"
          ]
        }
      ],
      "source": [
        "!nvidia-smi"
      ]
    },
    {
      "cell_type": "code",
      "source": [
        "!gdown --folder \"https://drive.google.com/drive/folders/1Rx4LCo-9AbAdPw5Zh7wpKhMKLabZ5oA8\""
      ],
      "metadata": {
        "colab": {
          "base_uri": "https://localhost:8080/"
        },
        "id": "YjAqxnT2CoMT",
        "outputId": "1948ec24-77c0-4256-81e7-6b770c0a51c2"
      },
      "execution_count": null,
      "outputs": [
        {
          "output_type": "stream",
          "name": "stdout",
          "text": [
            "Retrieving folder contents\n",
            "Processing file 13OgrD0-8cKG0X00MlA6JXr0G_JJmHYXg Crash-1500.txt\n",
            "Processing file 1fmcwGhr8JT9YfLUrlcvuCZ3ychi2eyFP Crash-1500.zip\n",
            "Processing file 11ErpWQmmV5au2JOQVxwYl3ebtuugdlan Normal.zip\n",
            "Processing file 1uCF5giUjqYyaG3SST-cpJ549vbD1i4cu YouTube_download.py\n",
            "Processing file 1xETn9viyjaEt4giYXZQI9Vs-oxEIJv4h ytb_list.txt\n",
            "Retrieving folder contents completed\n",
            "Building directory structure\n",
            "Building directory structure completed\n",
            "Downloading...\n",
            "From: https://drive.google.com/uc?id=13OgrD0-8cKG0X00MlA6JXr0G_JJmHYXg\n",
            "To: /content/videos/Crash-1500.txt\n",
            "100% 277k/277k [00:00<00:00, 4.88MB/s]\n",
            "Downloading...\n",
            "From (original): https://drive.google.com/uc?id=1fmcwGhr8JT9YfLUrlcvuCZ3ychi2eyFP\n",
            "From (redirected): https://drive.google.com/uc?id=1fmcwGhr8JT9YfLUrlcvuCZ3ychi2eyFP&confirm=t&uuid=965bf5b2-86ca-4bcd-ada2-9e714f6ef37b\n",
            "To: /content/videos/Crash-1500.zip\n",
            "100% 793M/793M [00:14<00:00, 53.6MB/s]\n",
            "Downloading...\n",
            "From (original): https://drive.google.com/uc?id=11ErpWQmmV5au2JOQVxwYl3ebtuugdlan\n",
            "From (redirected): https://drive.google.com/uc?id=11ErpWQmmV5au2JOQVxwYl3ebtuugdlan&confirm=t&uuid=650e3b4c-9b35-478e-bf2a-311bbf93e13c\n",
            "To: /content/videos/Normal.zip\n",
            "100% 6.45G/6.45G [01:18<00:00, 81.9MB/s]\n",
            "Downloading...\n",
            "From (original): https://drive.google.com/uc?id=1uCF5giUjqYyaG3SST-cpJ549vbD1i4cu\n",
            "From (redirected): https://drive.google.com/uc?id=1uCF5giUjqYyaG3SST-cpJ549vbD1i4cu&confirm=t&uuid=290b55c8-a467-4ab1-942e-eeb59260cb03\n",
            "To: /content/videos/YouTube_download.py\n",
            "100% 1.46k/1.46k [00:00<00:00, 8.03MB/s]\n",
            "Downloading...\n",
            "From: https://drive.google.com/uc?id=1xETn9viyjaEt4giYXZQI9Vs-oxEIJv4h\n",
            "To: /content/videos/ytb_list.txt\n",
            "100% 2.74k/2.74k [00:00<00:00, 12.1MB/s]\n",
            "Download completed\n"
          ]
        }
      ]
    },
    {
      "cell_type": "code",
      "source": [],
      "metadata": {
        "id": "zQaNKS-xsWD5"
      },
      "execution_count": null,
      "outputs": []
    },
    {
      "cell_type": "code",
      "source": [
        "\n",
        "import zipfile\n",
        "import os\n",
        "\n",
        "zip_path = \"/content/videos/Crash-1500.zip\"\n",
        "extract_to = \"/content/d/accident\"\n",
        "os.makedirs(extract_to, exist_ok=True)\n",
        "\n",
        "with zipfile.ZipFile(zip_path, 'r') as zip_ref:\n",
        "    # Get video file names\n",
        "    video_files = [f for f in zip_ref.namelist() if f.endswith(('.mp4', '.mov', '.avi'))]\n",
        "\n",
        "    # Extract only the first 500\n",
        "    for file in video_files[:500]:\n",
        "        zip_ref.extract(file, path=extract_to)\n",
        "\n",
        "print(f\"✅ Extracted 500 videos to {extract_to}\")\n",
        "\n",
        "zip_path = \"/content/videos/Normal.zip\"\n",
        "extract_to = \"/content/d/normal\"\n",
        "os.makedirs(extract_to, exist_ok=True)\n",
        "\n",
        "with zipfile.ZipFile(zip_path, 'r') as zip_ref:\n",
        "    # Get video file names\n",
        "    video_files = [f for f in zip_ref.namelist() if f.endswith(('.mp4', '.mov', '.avi'))]\n",
        "\n",
        "    # Extract only the first 500\n",
        "    for file in video_files[:500]:\n",
        "        zip_ref.extract(file, path=extract_to)\n",
        "\n",
        "print(f\"✅ Extracted 500 videos to {extract_to}\")"
      ],
      "metadata": {
        "colab": {
          "base_uri": "https://localhost:8080/"
        },
        "id": "KqkzjHOMCrsk",
        "outputId": "8e778d3b-2d40-4f0c-e057-a712be856e73"
      },
      "execution_count": null,
      "outputs": [
        {
          "output_type": "stream",
          "name": "stdout",
          "text": [
            "✅ Extracted 500 videos to /content/d/accident\n",
            "✅ Extracted 500 videos to /content/d/normal\n"
          ]
        }
      ]
    },
    {
      "cell_type": "code",
      "source": [
        "import os\n",
        "import cv2\n",
        "import numpy as np\n",
        "import random\n",
        "from tqdm import tqdm\n",
        "from sklearn.model_selection import train_test_split\n",
        "import tensorflow as tf\n",
        "from tensorflow.keras import layers, models\n",
        "from tensorflow.keras.callbacks import EarlyStopping, ReduceLROnPlateau"
      ],
      "metadata": {
        "id": "b2wVKQ0Ash1s"
      },
      "execution_count": null,
      "outputs": []
    },
    {
      "cell_type": "code",
      "source": [
        "\n",
        "SEGMENT_LENGTH = 32\n",
        "FRAME_SIZE = (96, 96)\n",
        "INPUT_SHAPE = (SEGMENT_LENGTH, FRAME_SIZE[0], FRAME_SIZE[1], 3)\n",
        "BATCH_SIZE = 2\n",
        "EPOCHS = 100\n",
        "DATASET_PATH = \"/content/d\"\n",
        "PROCESSED_PATH = \"/content/processed2\"\n",
        "os.makedirs(PROCESSED_PATH, exist_ok=True)\n",
        "\n",
        "random.seed(42)\n",
        "np.random.seed(42)\n",
        "tf.random.set_seed(42)"
      ],
      "metadata": {
        "id": "vHPbooT_Js0J"
      },
      "execution_count": null,
      "outputs": []
    },
    {
      "cell_type": "code",
      "source": [
        "# ========================== #\n",
        "#   AUGMENTATION FUNCTIONS   #\n",
        "# ========================== #\n",
        "def augment_video_segment(segment):\n",
        "    # --- TEMPORAL AUGMENTATIONS ---\n",
        "    # 1. Temporal shift\n",
        "    if random.random() < 0.5:\n",
        "        shift = random.randint(-4, 4)\n",
        "        segment = np.roll(segment, shift, axis=0)\n",
        "\n",
        "    # 2. Frame drop\n",
        "    if random.random() < 0.3:\n",
        "        drop_count = random.randint(1, 3)\n",
        "        keep_indices = sorted(random.sample(range(len(segment)), len(segment) - drop_count))\n",
        "        segment = segment[keep_indices]\n",
        "        # Resize back to segment length\n",
        "        while len(segment) < SEGMENT_LENGTH:\n",
        "            segment = np.append(segment, [segment[-1]], axis=0)\n",
        "        segment = segment[:SEGMENT_LENGTH]\n",
        "\n",
        "    # 3. Reverse playback\n",
        "    if random.random() < 0.1:\n",
        "        segment = segment[::-1]\n",
        "\n",
        "    # --- SPATIAL AUGMENTATIONS ---\n",
        "    # Horizontal flip\n",
        "    if random.random() < 0.5:\n",
        "        segment = np.flip(segment, axis=2)\n",
        "\n",
        "    # Brightness adjustment\n",
        "    if random.random() < 0.5:\n",
        "        factor = 1.0 + (0.2 * (random.random() - 0.5))\n",
        "        segment = np.clip(segment * factor, 0, 1)\n",
        "\n",
        "    # Random zoom\n",
        "    if random.random() < 0.3:\n",
        "        crop_size = random.randint(int(FRAME_SIZE[0] * 0.9), FRAME_SIZE[0])\n",
        "        start_x = random.randint(0, FRAME_SIZE[0] - crop_size)\n",
        "        start_y = random.randint(0, FRAME_SIZE[1] - crop_size)\n",
        "        cropped = segment[:, start_y:start_y+crop_size, start_x:start_x+crop_size, :]\n",
        "        segment = np.array([cv2.resize(frame, FRAME_SIZE) for frame in cropped])\n",
        "\n",
        "    return segment"
      ],
      "metadata": {
        "id": "QGY0JmhBJ71C"
      },
      "execution_count": null,
      "outputs": []
    },
    {
      "cell_type": "code",
      "source": [],
      "metadata": {
        "id": "iagw50aMtHl4"
      },
      "execution_count": null,
      "outputs": []
    },
    {
      "cell_type": "code",
      "source": [
        "class WeakVideoDataset:\n",
        "    def __init__(self, dataset_path, processed_path, augment=False):\n",
        "        self.classes = ['normal', 'accident']\n",
        "        self.dataset_path = dataset_path\n",
        "        self.processed_path = processed_path\n",
        "        self.augment = augment\n",
        "\n",
        "    def segment_video(self, path, segment_length=SEGMENT_LENGTH):\n",
        "        cap = cv2.VideoCapture(path)\n",
        "        frames = []\n",
        "        while True:\n",
        "            ret, frame = cap.read()\n",
        "            if not ret:\n",
        "                break\n",
        "            frame = cv2.resize(frame, FRAME_SIZE)\n",
        "            frame = cv2.cvtColor(frame, cv2.COLOR_BGR2RGB) / 255.0\n",
        "            frames.append(frame)\n",
        "        cap.release()\n",
        "\n",
        "        segments = []\n",
        "        for i in range(0, len(frames) - segment_length + 1, segment_length):\n",
        "            segments.append(np.array(frames[i:i + segment_length]))\n",
        "        return np.array(segments)\n",
        "\n",
        "    def preprocess_and_save(self, max_videos_per_class=None):\n",
        "        for cls in self.classes:\n",
        "            cls_dir = os.path.join(self.dataset_path, cls)\n",
        "            save_cls_dir = os.path.join(self.processed_path, cls)\n",
        "            os.makedirs(save_cls_dir, exist_ok=True)\n",
        "\n",
        "            videos = [f for f in os.listdir(cls_dir) if f.endswith(('.mp4', '.mov', '.avi'))]\n",
        "            if max_videos_per_class:\n",
        "                videos = videos[:max_videos_per_class]  # process in small batches\n",
        "\n",
        "            for vid in tqdm(videos, desc=f\"Processing {cls} videos\"):\n",
        "                save_path = os.path.join(save_cls_dir, vid.rsplit('.', 1)[0] + '.npy')\n",
        "                if os.path.exists(save_path):\n",
        "                    continue\n",
        "                segments = self.segment_video(os.path.join(cls_dir, vid))\n",
        "                np.save(save_path, segments)\n",
        "\n",
        "    def load_generator(self, batch_size=4, split='train', test_size=0.2):\n",
        "        X_files, y_labels = [], []\n",
        "        for idx, cls in enumerate(self.classes):\n",
        "            cls_dir = os.path.join(self.processed_path, cls)\n",
        "            files = [os.path.join(cls_dir, f) for f in os.listdir(cls_dir) if f.endswith('.npy')]\n",
        "            X_files.extend(files)\n",
        "            y_labels.extend([idx] * len(files))\n",
        "\n",
        "        X_train, X_test, y_train, y_test = train_test_split(\n",
        "            X_files, y_labels, stratify=y_labels, test_size=test_size, random_state=42\n",
        "        )\n",
        "        files_split, labels_split = (X_train, y_train) if split == 'train' else (X_test, y_test)\n",
        "\n",
        "        while True:\n",
        "            idxs = np.arange(len(files_split))\n",
        "            np.random.shuffle(idxs)\n",
        "            for i in range(0, len(idxs), batch_size):\n",
        "                batch_files = [files_split[j] for j in idxs[i:i+batch_size]]\n",
        "                batch_labels = [labels_split[j] for j in idxs[i:i+batch_size]]\n",
        "                X_batch, y_batch = [], []\n",
        "\n",
        "                for file_path, label in zip(batch_files, batch_labels):\n",
        "                    segments = np.load(file_path)\n",
        "                    for seg in segments:\n",
        "                        if self.augment and split == 'train':\n",
        "                            seg = augment_video_segment(seg)\n",
        "                        X_batch.append(seg)\n",
        "                        y_batch.append(label)\n",
        "\n",
        "                yield np.array(X_batch), np.array(y_batch)"
      ],
      "metadata": {
        "id": "VmGLI6i5KEeH"
      },
      "execution_count": null,
      "outputs": []
    },
    {
      "cell_type": "code",
      "source": [
        "def build_3d_cnn_model():\n",
        "    inputs = layers.Input(shape=INPUT_SHAPE)\n",
        "    x = layers.Conv3D(32, (3, 3, 3), activation='relu', padding='same')(inputs)\n",
        "    x = layers.MaxPooling3D(pool_size=(2, 2, 2))(x)\n",
        "    x = layers.Conv3D(64, (3, 3, 3), activation='relu', padding='same')(x)\n",
        "    x = layers.MaxPooling3D(pool_size=(2, 2, 2))(x)\n",
        "    x = layers.GlobalAveragePooling3D()(x)\n",
        "    x = layers.Dense(64, activation='relu')(x)\n",
        "    x = layers.Dropout(0.5)(x)\n",
        "    output = layers.Dense(1, activation='sigmoid')(x)\n",
        "    return models.Model(inputs, output)"
      ],
      "metadata": {
        "id": "Z6Z-p9ARKKkF"
      },
      "execution_count": null,
      "outputs": []
    },
    {
      "cell_type": "code",
      "source": [
        "# ========================== #\n",
        "#     PREPROCESS & TRAIN     #\n",
        "# ========================== #\n",
        "loader = WeakVideoDataset(DATASET_PATH, PROCESSED_PATH, augment=True)\n",
        "\n",
        "# Process dataset in chunks to save space (optional)\n",
        "loader.preprocess_and_save()  # If too large: loader.preprocess_and_save(max_videos_per_class=200)\n",
        "\n",
        "# Load generators\n",
        "train_gen = loader.load_generator(batch_size=BATCH_SIZE, split='train')\n",
        "test_gen = loader.load_generator(batch_size=BATCH_SIZE, split='test')\n",
        "\n",
        "# Count steps based on total segments\n",
        "def count_segments(processed_path, split_ratio=0.8):\n",
        "    total_segments = 0\n",
        "    for cls in ['normal', 'accident']:\n",
        "        cls_dir = os.path.join(processed_path, cls)\n",
        "        for f in os.listdir(cls_dir):\n",
        "            if f.endswith('.npy'):\n",
        "                total_segments += np.load(os.path.join(cls_dir, f)).shape[0]\n",
        "    train_steps = int((total_segments * split_ratio) / BATCH_SIZE)\n",
        "    val_steps = int((total_segments * (1 - split_ratio)) / BATCH_SIZE)\n",
        "    return train_steps, val_steps\n",
        "\n",
        "train_steps, test_steps = count_segments(PROCESSED_PATH)"
      ],
      "metadata": {
        "colab": {
          "base_uri": "https://localhost:8080/"
        },
        "id": "AUyTErLrKfcZ",
        "outputId": "b8f5bee3-5e01-4490-950a-9836aa78537f"
      },
      "execution_count": null,
      "outputs": [
        {
          "output_type": "stream",
          "name": "stderr",
          "text": [
            "Processing normal videos: 100%|██████████| 500/500 [01:22<00:00,  6.03it/s]\n",
            "Processing accident videos: 100%|██████████| 500/500 [01:00<00:00,  8.27it/s]\n"
          ]
        }
      ]
    },
    {
      "cell_type": "code",
      "source": [
        "# Build and compile model\n",
        "model = build_3d_cnn_model()\n",
        "model.compile(optimizer='adam', loss='binary_crossentropy', metrics=['accuracy'])\n",
        "\n",
        "# Callbacks\n",
        "early_stop = EarlyStopping(monitor='val_loss', patience=5, restore_best_weights=True, verbose=1)\n",
        "reduce_lr = ReduceLROnPlateau(monitor='val_loss', factor=0.5, patience=3, min_lr=1e-6, verbose=1)\n",
        "\n",
        "# Train\n",
        "print(\"[INFO] Training model on Colab...\")\n",
        "history = model.fit(\n",
        "    train_gen,\n",
        "    steps_per_epoch=train_steps,\n",
        "    validation_data=test_gen,\n",
        "    validation_steps=test_steps,\n",
        "    epochs=EPOCHS,\n",
        "    callbacks=[early_stop, reduce_lr]\n",
        ")\n",
        "\n",
        "# Save model\n",
        "model.save(\"/content/weakly_supervised_3dcnn1.h5\")\n",
        "print(\"[INFO] Model saved.\")\n",
        "\n",
        "# ========================== #\n",
        "#    CLEAN UP (Optional)     #\n",
        "# ========================== #\n",
        "# !rm -rf /content/processed"
      ],
      "metadata": {
        "colab": {
          "base_uri": "https://localhost:8080/"
        },
        "id": "ANv3tmGRKS1y",
        "outputId": "dab9b027-3d1c-48b1-a36c-c2368f4fde57"
      },
      "execution_count": null,
      "outputs": [
        {
          "output_type": "stream",
          "name": "stdout",
          "text": [
            "[INFO] Training model on Colab...\n",
            "Epoch 1/100\n",
            "\u001b[1m400/400\u001b[0m \u001b[32m━━━━━━━━━━━━━━━━━━━━\u001b[0m\u001b[37m\u001b[0m \u001b[1m40s\u001b[0m 87ms/step - accuracy: 0.5857 - loss: 0.6674 - val_accuracy: 0.6313 - val_loss: 0.5921 - learning_rate: 0.0010\n",
            "Epoch 2/100\n",
            "\u001b[1m400/400\u001b[0m \u001b[32m━━━━━━━━━━━━━━━━━━━━\u001b[0m\u001b[37m\u001b[0m \u001b[1m40s\u001b[0m 100ms/step - accuracy: 0.6316 - loss: 0.6305 - val_accuracy: 0.6212 - val_loss: 0.6456 - learning_rate: 0.0010\n",
            "Epoch 3/100\n",
            "\u001b[1m400/400\u001b[0m \u001b[32m━━━━━━━━━━━━━━━━━━━━\u001b[0m\u001b[37m\u001b[0m \u001b[1m39s\u001b[0m 97ms/step - accuracy: 0.6647 - loss: 0.5738 - val_accuracy: 0.6616 - val_loss: 0.6033 - learning_rate: 0.0010\n",
            "Epoch 4/100\n",
            "\u001b[1m400/400\u001b[0m \u001b[32m━━━━━━━━━━━━━━━━━━━━\u001b[0m\u001b[37m\u001b[0m \u001b[1m42s\u001b[0m 106ms/step - accuracy: 0.6522 - loss: 0.5728 - val_accuracy: 0.6818 - val_loss: 0.5333 - learning_rate: 0.0010\n",
            "Epoch 5/100\n",
            "\u001b[1m400/400\u001b[0m \u001b[32m━━━━━━━━━━━━━━━━━━━━\u001b[0m\u001b[37m\u001b[0m \u001b[1m23s\u001b[0m 58ms/step - accuracy: 0.7088 - loss: 0.5171 - val_accuracy: 0.6313 - val_loss: 0.6187 - learning_rate: 0.0010\n",
            "Epoch 6/100\n",
            "\u001b[1m400/400\u001b[0m \u001b[32m━━━━━━━━━━━━━━━━━━━━\u001b[0m\u001b[37m\u001b[0m \u001b[1m24s\u001b[0m 59ms/step - accuracy: 0.7528 - loss: 0.5113 - val_accuracy: 0.7323 - val_loss: 0.5245 - learning_rate: 0.0010\n",
            "Epoch 7/100\n",
            "\u001b[1m400/400\u001b[0m \u001b[32m━━━━━━━━━━━━━━━━━━━━\u001b[0m\u001b[37m\u001b[0m \u001b[1m21s\u001b[0m 52ms/step - accuracy: 0.7596 - loss: 0.4699 - val_accuracy: 0.7525 - val_loss: 0.4736 - learning_rate: 0.0010\n",
            "Epoch 8/100\n",
            "\u001b[1m400/400\u001b[0m \u001b[32m━━━━━━━━━━━━━━━━━━━━\u001b[0m\u001b[37m\u001b[0m \u001b[1m20s\u001b[0m 50ms/step - accuracy: 0.7855 - loss: 0.4768 - val_accuracy: 0.8081 - val_loss: 0.4637 - learning_rate: 0.0010\n",
            "Epoch 9/100\n",
            "\u001b[1m400/400\u001b[0m \u001b[32m━━━━━━━━━━━━━━━━━━━━\u001b[0m\u001b[37m\u001b[0m \u001b[1m18s\u001b[0m 44ms/step - accuracy: 0.7948 - loss: 0.4533 - val_accuracy: 0.7626 - val_loss: 0.4644 - learning_rate: 0.0010\n",
            "Epoch 10/100\n",
            "\u001b[1m400/400\u001b[0m \u001b[32m━━━━━━━━━━━━━━━━━━━━\u001b[0m\u001b[37m\u001b[0m \u001b[1m20s\u001b[0m 51ms/step - accuracy: 0.8227 - loss: 0.4398 - val_accuracy: 0.8030 - val_loss: 0.4627 - learning_rate: 0.0010\n",
            "Epoch 11/100\n",
            "\u001b[1m400/400\u001b[0m \u001b[32m━━━━━━━━━━━━━━━━━━━━\u001b[0m\u001b[37m\u001b[0m \u001b[1m19s\u001b[0m 49ms/step - accuracy: 0.8431 - loss: 0.4068 - val_accuracy: 0.7980 - val_loss: 0.4379 - learning_rate: 0.0010\n",
            "Epoch 12/100\n",
            "\u001b[1m400/400\u001b[0m \u001b[32m━━━━━━━━━━━━━━━━━━━━\u001b[0m\u001b[37m\u001b[0m \u001b[1m21s\u001b[0m 51ms/step - accuracy: 0.8439 - loss: 0.3684 - val_accuracy: 0.8081 - val_loss: 0.3780 - learning_rate: 0.0010\n",
            "Epoch 13/100\n",
            "\u001b[1m400/400\u001b[0m \u001b[32m━━━━━━━━━━━━━━━━━━━━\u001b[0m\u001b[37m\u001b[0m \u001b[1m20s\u001b[0m 49ms/step - accuracy: 0.8714 - loss: 0.3498 - val_accuracy: 0.8535 - val_loss: 0.3977 - learning_rate: 0.0010\n",
            "Epoch 14/100\n",
            "\u001b[1m400/400\u001b[0m \u001b[32m━━━━━━━━━━━━━━━━━━━━\u001b[0m\u001b[37m\u001b[0m \u001b[1m16s\u001b[0m 41ms/step - accuracy: 0.8439 - loss: 0.3692 - val_accuracy: 0.8081 - val_loss: 0.4079 - learning_rate: 0.0010\n",
            "Epoch 15/100\n",
            "\u001b[1m400/400\u001b[0m \u001b[32m━━━━━━━━━━━━━━━━━━━━\u001b[0m\u001b[37m\u001b[0m \u001b[1m16s\u001b[0m 39ms/step - accuracy: 0.8820 - loss: 0.3171 - val_accuracy: 0.8636 - val_loss: 0.3326 - learning_rate: 0.0010\n",
            "Epoch 16/100\n",
            "\u001b[1m400/400\u001b[0m \u001b[32m━━━━━━━━━━━━━━━━━━━━\u001b[0m\u001b[37m\u001b[0m \u001b[1m16s\u001b[0m 40ms/step - accuracy: 0.8597 - loss: 0.3586 - val_accuracy: 0.8535 - val_loss: 0.3289 - learning_rate: 0.0010\n",
            "Epoch 17/100\n",
            "\u001b[1m400/400\u001b[0m \u001b[32m━━━━━━━━━━━━━━━━━━━━\u001b[0m\u001b[37m\u001b[0m \u001b[1m19s\u001b[0m 48ms/step - accuracy: 0.8714 - loss: 0.3283 - val_accuracy: 0.8333 - val_loss: 0.3566 - learning_rate: 0.0010\n",
            "Epoch 18/100\n",
            "\u001b[1m400/400\u001b[0m \u001b[32m━━━━━━━━━━━━━━━━━━━━\u001b[0m\u001b[37m\u001b[0m \u001b[1m21s\u001b[0m 51ms/step - accuracy: 0.8591 - loss: 0.3253 - val_accuracy: 0.8535 - val_loss: 0.3285 - learning_rate: 0.0010\n",
            "Epoch 19/100\n",
            "\u001b[1m400/400\u001b[0m \u001b[32m━━━━━━━━━━━━━━━━━━━━\u001b[0m\u001b[37m\u001b[0m \u001b[1m21s\u001b[0m 52ms/step - accuracy: 0.8917 - loss: 0.2846 - val_accuracy: 0.8535 - val_loss: 0.3544 - learning_rate: 0.0010\n",
            "Epoch 20/100\n",
            "\u001b[1m400/400\u001b[0m \u001b[32m━━━━━━━━━━━━━━━━━━━━\u001b[0m\u001b[37m\u001b[0m \u001b[1m20s\u001b[0m 51ms/step - accuracy: 0.8591 - loss: 0.3298 - val_accuracy: 0.8485 - val_loss: 0.3571 - learning_rate: 0.0010\n",
            "Epoch 21/100\n",
            "\u001b[1m399/400\u001b[0m \u001b[32m━━━━━━━━━━━━━━━━━━━\u001b[0m\u001b[37m━\u001b[0m \u001b[1m0s\u001b[0m 34ms/step - accuracy: 0.8842 - loss: 0.3085\n",
            "Epoch 21: ReduceLROnPlateau reducing learning rate to 0.0005000000237487257.\n",
            "\u001b[1m400/400\u001b[0m \u001b[32m━━━━━━━━━━━━━━━━━━━━\u001b[0m\u001b[37m\u001b[0m \u001b[1m16s\u001b[0m 39ms/step - accuracy: 0.8842 - loss: 0.3084 - val_accuracy: 0.8586 - val_loss: 0.3547 - learning_rate: 0.0010\n",
            "Epoch 22/100\n",
            "\u001b[1m400/400\u001b[0m \u001b[32m━━━━━━━━━━━━━━━━━━━━\u001b[0m\u001b[37m\u001b[0m \u001b[1m14s\u001b[0m 36ms/step - accuracy: 0.9051 - loss: 0.2421 - val_accuracy: 0.9091 - val_loss: 0.2673 - learning_rate: 5.0000e-04\n",
            "Epoch 23/100\n",
            "\u001b[1m400/400\u001b[0m \u001b[32m━━━━━━━━━━━━━━━━━━━━\u001b[0m\u001b[37m\u001b[0m \u001b[1m15s\u001b[0m 38ms/step - accuracy: 0.8972 - loss: 0.2690 - val_accuracy: 0.8788 - val_loss: 0.3087 - learning_rate: 5.0000e-04\n",
            "Epoch 24/100\n",
            "\u001b[1m400/400\u001b[0m \u001b[32m━━━━━━━━━━━━━━━━━━━━\u001b[0m\u001b[37m\u001b[0m \u001b[1m21s\u001b[0m 52ms/step - accuracy: 0.9157 - loss: 0.2376 - val_accuracy: 0.8990 - val_loss: 0.2951 - learning_rate: 5.0000e-04\n",
            "Epoch 25/100\n",
            "\u001b[1m400/400\u001b[0m \u001b[32m━━━━━━━━━━━━━━━━━━━━\u001b[0m\u001b[37m\u001b[0m \u001b[1m16s\u001b[0m 40ms/step - accuracy: 0.8943 - loss: 0.2428 - val_accuracy: 0.9040 - val_loss: 0.2642 - learning_rate: 5.0000e-04\n",
            "Epoch 26/100\n",
            "\u001b[1m400/400\u001b[0m \u001b[32m━━━━━━━━━━━━━━━━━━━━\u001b[0m\u001b[37m\u001b[0m \u001b[1m20s\u001b[0m 51ms/step - accuracy: 0.9176 - loss: 0.2297 - val_accuracy: 0.8990 - val_loss: 0.3508 - learning_rate: 5.0000e-04\n",
            "Epoch 27/100\n",
            "\u001b[1m400/400\u001b[0m \u001b[32m━━━━━━━━━━━━━━━━━━━━\u001b[0m\u001b[37m\u001b[0m \u001b[1m20s\u001b[0m 51ms/step - accuracy: 0.9107 - loss: 0.2567 - val_accuracy: 0.9040 - val_loss: 0.2971 - learning_rate: 5.0000e-04\n",
            "Epoch 28/100\n",
            "\u001b[1m399/400\u001b[0m \u001b[32m━━━━━━━━━━━━━━━━━━━\u001b[0m\u001b[37m━\u001b[0m \u001b[1m0s\u001b[0m 31ms/step - accuracy: 0.9061 - loss: 0.2627\n",
            "Epoch 28: ReduceLROnPlateau reducing learning rate to 0.0002500000118743628.\n",
            "\u001b[1m400/400\u001b[0m \u001b[32m━━━━━━━━━━━━━━━━━━━━\u001b[0m\u001b[37m\u001b[0m \u001b[1m14s\u001b[0m 34ms/step - accuracy: 0.9062 - loss: 0.2625 - val_accuracy: 0.8283 - val_loss: 0.4482 - learning_rate: 5.0000e-04\n",
            "Epoch 29/100\n",
            "\u001b[1m400/400\u001b[0m \u001b[32m━━━━━━━━━━━━━━━━━━━━\u001b[0m\u001b[37m\u001b[0m \u001b[1m20s\u001b[0m 51ms/step - accuracy: 0.8935 - loss: 0.2462 - val_accuracy: 0.9141 - val_loss: 0.2230 - learning_rate: 2.5000e-04\n",
            "Epoch 30/100\n",
            "\u001b[1m400/400\u001b[0m \u001b[32m━━━━━━━━━━━━━━━━━━━━\u001b[0m\u001b[37m\u001b[0m \u001b[1m14s\u001b[0m 34ms/step - accuracy: 0.9181 - loss: 0.2309 - val_accuracy: 0.9040 - val_loss: 0.2710 - learning_rate: 2.5000e-04\n",
            "Epoch 31/100\n",
            "\u001b[1m400/400\u001b[0m \u001b[32m━━━━━━━━━━━━━━━━━━━━\u001b[0m\u001b[37m\u001b[0m \u001b[1m14s\u001b[0m 35ms/step - accuracy: 0.8992 - loss: 0.2368 - val_accuracy: 0.8939 - val_loss: 0.2917 - learning_rate: 2.5000e-04\n",
            "Epoch 32/100\n",
            "\u001b[1m399/400\u001b[0m \u001b[32m━━━━━━━━━━━━━━━━━━━\u001b[0m\u001b[37m━\u001b[0m \u001b[1m0s\u001b[0m 31ms/step - accuracy: 0.9358 - loss: 0.1904\n",
            "Epoch 32: ReduceLROnPlateau reducing learning rate to 0.0001250000059371814.\n",
            "\u001b[1m400/400\u001b[0m \u001b[32m━━━━━━━━━━━━━━━━━━━━\u001b[0m\u001b[37m\u001b[0m \u001b[1m14s\u001b[0m 34ms/step - accuracy: 0.9358 - loss: 0.1905 - val_accuracy: 0.9242 - val_loss: 0.2595 - learning_rate: 2.5000e-04\n",
            "Epoch 33/100\n",
            "\u001b[1m400/400\u001b[0m \u001b[32m━━━━━━━━━━━━━━━━━━━━\u001b[0m\u001b[37m\u001b[0m \u001b[1m21s\u001b[0m 51ms/step - accuracy: 0.9083 - loss: 0.2176 - val_accuracy: 0.8788 - val_loss: 0.2692 - learning_rate: 1.2500e-04\n",
            "Epoch 34/100\n",
            "\u001b[1m400/400\u001b[0m \u001b[32m━━━━━━━━━━━━━━━━━━━━\u001b[0m\u001b[37m\u001b[0m \u001b[1m13s\u001b[0m 33ms/step - accuracy: 0.9452 - loss: 0.1586 - val_accuracy: 0.9091 - val_loss: 0.2798 - learning_rate: 1.2500e-04\n",
            "Epoch 34: early stopping\n",
            "Restoring model weights from the end of the best epoch: 29.\n"
          ]
        },
        {
          "output_type": "stream",
          "name": "stderr",
          "text": [
            "WARNING:absl:You are saving your model as an HDF5 file via `model.save()` or `keras.saving.save_model(model)`. This file format is considered legacy. We recommend using instead the native Keras format, e.g. `model.save('my_model.keras')` or `keras.saving.save_model(model, 'my_model.keras')`. \n"
          ]
        },
        {
          "output_type": "stream",
          "name": "stdout",
          "text": [
            "[INFO] Model saved.\n"
          ]
        }
      ]
    },
    {
      "cell_type": "code",
      "source": [
        "model.evaluate(test_gen, steps=test_steps)\n"
      ],
      "metadata": {
        "colab": {
          "base_uri": "https://localhost:8080/"
        },
        "id": "uGUHNlMXPR2W",
        "outputId": "4b9c7624-5f24-4389-965a-f2a5f4689ef6"
      },
      "execution_count": null,
      "outputs": [
        {
          "output_type": "stream",
          "name": "stdout",
          "text": [
            "\u001b[1m99/99\u001b[0m \u001b[32m━━━━━━━━━━━━━━━━━━━━\u001b[0m\u001b[37m\u001b[0m \u001b[1m2s\u001b[0m 14ms/step - accuracy: 0.9094 - loss: 0.2655\n"
          ]
        },
        {
          "output_type": "execute_result",
          "data": {
            "text/plain": [
              "[0.2863156497478485, 0.9040403962135315]"
            ]
          },
          "metadata": {},
          "execution_count": 13
        }
      ]
    },
    {
      "cell_type": "code",
      "source": [],
      "metadata": {
        "id": "PXLI4Cp2t6Zv"
      },
      "execution_count": null,
      "outputs": []
    },
    {
      "cell_type": "code",
      "source": [
        "# ======== VISUALIZE TRAINING ======== #\n",
        "import matplotlib.pyplot as plt\n",
        "\n",
        "def plot_training_history(history, save_path=\"training_plot.png\"):\n",
        "    plt.figure(figsize=(12, 5))\n",
        "\n",
        "    # Accuracy plot\n",
        "    plt.subplot(1, 2, 1)\n",
        "    plt.plot(history.history['accuracy'], label='Train Accuracy', marker='o')\n",
        "    plt.plot(history.history['val_accuracy'], label='Val Accuracy', marker='o')\n",
        "    plt.title(\"Model Accuracy\")\n",
        "    plt.xlabel(\"Epoch\")\n",
        "    plt.ylabel(\"Accuracy\")\n",
        "    plt.legend()\n",
        "    plt.grid(True)\n",
        "\n",
        "    # Loss plot\n",
        "    plt.subplot(1, 2, 2)\n",
        "    plt.plot(history.history['loss'], label='Train Loss', marker='o')\n",
        "    plt.plot(history.history['val_loss'], label='Val Loss', marker='o')\n",
        "    plt.title(\"Model Loss\")\n",
        "    plt.xlabel(\"Epoch\")\n",
        "    plt.ylabel(\"Loss\")\n",
        "    plt.legend()\n",
        "    plt.grid(True)\n",
        "\n",
        "    plt.tight_layout()\n",
        "    plt.savefig(save_path, dpi=300)\n",
        "    plt.show()\n",
        "    print(f\"[INFO] Training plot saved at {save_path}\")\n",
        "\n",
        "# Call the function after training\n",
        "plot_training_history(history, save_path=\"training_validation_curves1.png\")"
      ],
      "metadata": {
        "colab": {
          "base_uri": "https://localhost:8080/",
          "height": 487
        },
        "id": "id1dxz1pPaVs",
        "outputId": "d8ead58a-ed37-4ed2-a7a2-e3fe65642d1e"
      },
      "execution_count": null,
      "outputs": [
        {
          "output_type": "display_data",
          "data": {
            "text/plain": [
              "<Figure size 1200x500 with 2 Axes>"
            ],
            "image/png": "[encoded data removed]"
          },
          "metadata": {}
        },
        {
          "output_type": "stream",
          "name": "stdout",
          "text": [
            "[INFO] Training plot saved at training_validation_curves1.png\n"
          ]
        }
      ]
    },
    {
      "cell_type": "code",
      "source": [],
      "metadata": {
        "id": "4Vt7q2QuuACY"
      },
      "execution_count": null,
      "outputs": []
    },
    {
      "cell_type": "code",
      "source": [
        "import matplotlib.pyplot as plt\n",
        "from sklearn.metrics import (\n",
        "    confusion_matrix, ConfusionMatrixDisplay,\n",
        "    precision_score, recall_score, f1_score,\n",
        "    roc_auc_score, roc_curve, auc, precision_recall_curve\n",
        ")\n",
        "import seaborn as sns\n",
        "\n",
        "# Collect predictions and true labels\n",
        "y_true, y_pred_probs = [], []\n",
        "\n",
        "for i in range(test_steps):\n",
        "    X_batch, y_batch = next(test_gen)\n",
        "    preds = model.predict(X_batch)\n",
        "    y_true.extend(y_batch)\n",
        "    y_pred_probs.extend(preds.flatten())\n",
        "y_pred = [1 if p >= 0.5 else 0 for p in y_pred_probs]\n",
        "\n",
        "precision = precision_score(y_true, y_pred)\n",
        "recall = recall_score(y_true, y_pred)\n",
        "f1 = f1_score(y_true, y_pred)\n",
        "roc_auc = roc_auc_score(y_true, y_pred_probs)\n",
        "\n",
        "print(f\"Precision: {precision:.4f}\")\n",
        "print(f\"Recall:    {recall:.4f}\")\n",
        "print(f\"F1 Score:  {f1:.4f}\")\n",
        "print(f\"ROC AUC:   {roc_auc:.4f}\")\n",
        "\n",
        "cm = confusion_matrix(y_true, y_pred)\n",
        "disp = ConfusionMatrixDisplay(confusion_matrix=cm, display_labels=[\"Normal\", \"Accident\"])\n",
        "disp.plot(cmap=plt.cm.Blues)\n",
        "plt.title(\"Confusion Matrix\")\n",
        "plt.savefig(\"confusion_matrix.png\")\n",
        "plt.close()\n",
        "\n",
        "fpr, tpr, _ = roc_curve(y_true, y_pred_probs)\n",
        "roc_auc_val = auc(fpr, tpr)\n",
        "\n",
        "plt.figure()\n",
        "plt.plot(fpr, tpr, label=f\"ROC curve (AUC = {roc_auc_val:.2f})\")\n",
        "plt.plot([0, 1], [0, 1], 'k--')  # Diagonal line\n",
        "plt.xlabel(\"False Positive Rate\")\n",
        "plt.ylabel(\"True Positive Rate\")\n",
        "plt.title(\"ROC Curve\")\n",
        "plt.legend(loc=\"lower right\")\n",
        "plt.savefig(\"roc_curve.png\")\n",
        "plt.close()\n",
        "\n",
        "precision_vals, recall_vals, _ = precision_recall_curve(y_true, y_pred_probs)\n",
        "\n",
        "plt.figure()\n",
        "plt.plot(recall_vals, precision_vals, label=\"PR Curve\")\n",
        "plt.xlabel(\"Recall\")\n",
        "plt.ylabel(\"Precision\")\n",
        "plt.title(\"Precision-Recall Curve\")\n",
        "plt.legend()\n",
        "plt.savefig(\"pr_curve.png\")\n",
        "plt.close()\n"
      ],
      "metadata": {
        "colab": {
          "base_uri": "https://localhost:8080/"
        },
        "id": "AZXXU1aSP_xN",
        "outputId": "da53749d-2ab5-4f5f-c18a-cfea9b65655c"
      },
      "execution_count": null,
      "outputs": [
        {
          "output_type": "stream",
          "name": "stdout",
          "text": [
            "\u001b[1m1/1\u001b[0m \u001b[32m━━━━━━━━━━━━━━━━━━━━\u001b[0m\u001b[37m\u001b[0m \u001b[1m3s\u001b[0m 3s/step\n",
            "\u001b[1m1/1\u001b[0m \u001b[32m━━━━━━━━━━━━━━━━━━━━\u001b[0m\u001b[37m\u001b[0m \u001b[1m0s\u001b[0m 42ms/step\n",
            "\u001b[1m1/1\u001b[0m \u001b[32m━━━━━━━━━━━━━━━━━━━━\u001b[0m\u001b[37m\u001b[0m \u001b[1m0s\u001b[0m 47ms/step\n",
            "\u001b[1m1/1\u001b[0m \u001b[32m━━━━━━━━━━━━━━━━━━━━\u001b[0m\u001b[37m\u001b[0m \u001b[1m0s\u001b[0m 46ms/step\n",
            "\u001b[1m1/1\u001b[0m \u001b[32m━━━━━━━━━━━━━━━━━━━━\u001b[0m\u001b[37m\u001b[0m \u001b[1m0s\u001b[0m 56ms/step\n",
            "\u001b[1m1/1\u001b[0m \u001b[32m━━━━━━━━━━━━━━━━━━━━\u001b[0m\u001b[37m\u001b[0m \u001b[1m0s\u001b[0m 96ms/step\n",
            "\u001b[1m1/1\u001b[0m \u001b[32m━━━━━━━━━━━━━━━━━━━━\u001b[0m\u001b[37m\u001b[0m \u001b[1m0s\u001b[0m 61ms/step\n",
            "\u001b[1m1/1\u001b[0m \u001b[32m━━━━━━━━━━━━━━━━━━━━\u001b[0m\u001b[37m\u001b[0m \u001b[1m0s\u001b[0m 58ms/step\n",
            "\u001b[1m1/1\u001b[0m \u001b[32m━━━━━━━━━━━━━━━━━━━━\u001b[0m\u001b[37m\u001b[0m \u001b[1m0s\u001b[0m 57ms/step\n",
            "\u001b[1m1/1\u001b[0m \u001b[32m━━━━━━━━━━━━━━━━━━━━\u001b[0m\u001b[37m\u001b[0m \u001b[1m0s\u001b[0m 55ms/step\n",
            "\u001b[1m1/1\u001b[0m \u001b[32m━━━━━━━━━━━━━━━━━━━━\u001b[0m\u001b[37m\u001b[0m \u001b[1m0s\u001b[0m 59ms/step\n",
            "\u001b[1m1/1\u001b[0m \u001b[32m━━━━━━━━━━━━━━━━━━━━\u001b[0m\u001b[37m\u001b[0m \u001b[1m0s\u001b[0m 52ms/step\n",
            "\u001b[1m1/1\u001b[0m \u001b[32m━━━━━━━━━━━━━━━━━━━━\u001b[0m\u001b[37m\u001b[0m \u001b[1m0s\u001b[0m 54ms/step\n",
            "\u001b[1m1/1\u001b[0m \u001b[32m━━━━━━━━━━━━━━━━━━━━\u001b[0m\u001b[37m\u001b[0m \u001b[1m0s\u001b[0m 62ms/step\n",
            "\u001b[1m1/1\u001b[0m \u001b[32m━━━━━━━━━━━━━━━━━━━━\u001b[0m\u001b[37m\u001b[0m \u001b[1m0s\u001b[0m 67ms/step\n",
            "\u001b[1m1/1\u001b[0m \u001b[32m━━━━━━━━━━━━━━━━━━━━\u001b[0m\u001b[37m\u001b[0m \u001b[1m0s\u001b[0m 74ms/step\n",
            "\u001b[1m1/1\u001b[0m \u001b[32m━━━━━━━━━━━━━━━━━━━━\u001b[0m\u001b[37m\u001b[0m \u001b[1m0s\u001b[0m 70ms/step\n",
            "\u001b[1m1/1\u001b[0m \u001b[32m━━━━━━━━━━━━━━━━━━━━\u001b[0m\u001b[37m\u001b[0m \u001b[1m0s\u001b[0m 74ms/step\n",
            "\u001b[1m1/1\u001b[0m \u001b[32m━━━━━━━━━━━━━━━━━━━━\u001b[0m\u001b[37m\u001b[0m \u001b[1m0s\u001b[0m 60ms/step\n",
            "\u001b[1m1/1\u001b[0m \u001b[32m━━━━━━━━━━━━━━━━━━━━\u001b[0m\u001b[37m\u001b[0m \u001b[1m0s\u001b[0m 59ms/step\n",
            "\u001b[1m1/1\u001b[0m \u001b[32m━━━━━━━━━━━━━━━━━━━━\u001b[0m\u001b[37m\u001b[0m \u001b[1m0s\u001b[0m 55ms/step\n",
            "\u001b[1m1/1\u001b[0m \u001b[32m━━━━━━━━━━━━━━━━━━━━\u001b[0m\u001b[37m\u001b[0m \u001b[1m0s\u001b[0m 44ms/step\n",
            "\u001b[1m1/1\u001b[0m \u001b[32m━━━━━━━━━━━━━━━━━━━━\u001b[0m\u001b[37m\u001b[0m \u001b[1m0s\u001b[0m 44ms/step\n",
            "\u001b[1m1/1\u001b[0m \u001b[32m━━━━━━━━━━━━━━━━━━━━\u001b[0m\u001b[37m\u001b[0m \u001b[1m0s\u001b[0m 44ms/step\n",
            "\u001b[1m1/1\u001b[0m \u001b[32m━━━━━━━━━━━━━━━━━━━━\u001b[0m\u001b[37m\u001b[0m \u001b[1m0s\u001b[0m 44ms/step\n",
            "\u001b[1m1/1\u001b[0m \u001b[32m━━━━━━━━━━━━━━━━━━━━\u001b[0m\u001b[37m\u001b[0m \u001b[1m0s\u001b[0m 46ms/step\n",
            "\u001b[1m1/1\u001b[0m \u001b[32m━━━━━━━━━━━━━━━━━━━━\u001b[0m\u001b[37m\u001b[0m \u001b[1m0s\u001b[0m 45ms/step\n",
            "\u001b[1m1/1\u001b[0m \u001b[32m━━━━━━━━━━━━━━━━━━━━\u001b[0m\u001b[37m\u001b[0m \u001b[1m0s\u001b[0m 46ms/step\n",
            "\u001b[1m1/1\u001b[0m \u001b[32m━━━━━━━━━━━━━━━━━━━━\u001b[0m\u001b[37m\u001b[0m \u001b[1m0s\u001b[0m 46ms/step\n",
            "\u001b[1m1/1\u001b[0m \u001b[32m━━━━━━━━━━━━━━━━━━━━\u001b[0m\u001b[37m\u001b[0m \u001b[1m0s\u001b[0m 44ms/step\n",
            "\u001b[1m1/1\u001b[0m \u001b[32m━━━━━━━━━━━━━━━━━━━━\u001b[0m\u001b[37m\u001b[0m \u001b[1m0s\u001b[0m 53ms/step\n",
            "\u001b[1m1/1\u001b[0m \u001b[32m━━━━━━━━━━━━━━━━━━━━\u001b[0m\u001b[37m\u001b[0m \u001b[1m0s\u001b[0m 45ms/step\n",
            "\u001b[1m1/1\u001b[0m \u001b[32m━━━━━━━━━━━━━━━━━━━━\u001b[0m\u001b[37m\u001b[0m \u001b[1m0s\u001b[0m 44ms/step\n",
            "\u001b[1m1/1\u001b[0m \u001b[32m━━━━━━━━━━━━━━━━━━━━\u001b[0m\u001b[37m\u001b[0m \u001b[1m0s\u001b[0m 44ms/step\n",
            "\u001b[1m1/1\u001b[0m \u001b[32m━━━━━━━━━━━━━━━━━━━━\u001b[0m\u001b[37m\u001b[0m \u001b[1m0s\u001b[0m 43ms/step\n",
            "\u001b[1m1/1\u001b[0m \u001b[32m━━━━━━━━━━━━━━━━━━━━\u001b[0m\u001b[37m\u001b[0m \u001b[1m0s\u001b[0m 45ms/step\n",
            "\u001b[1m1/1\u001b[0m \u001b[32m━━━━━━━━━━━━━━━━━━━━\u001b[0m\u001b[37m\u001b[0m \u001b[1m0s\u001b[0m 47ms/step\n",
            "\u001b[1m1/1\u001b[0m \u001b[32m━━━━━━━━━━━━━━━━━━━━\u001b[0m\u001b[37m\u001b[0m \u001b[1m0s\u001b[0m 44ms/step\n",
            "\u001b[1m1/1\u001b[0m \u001b[32m━━━━━━━━━━━━━━━━━━━━\u001b[0m\u001b[37m\u001b[0m \u001b[1m0s\u001b[0m 48ms/step\n",
            "\u001b[1m1/1\u001b[0m \u001b[32m━━━━━━━━━━━━━━━━━━━━\u001b[0m\u001b[37m\u001b[0m \u001b[1m0s\u001b[0m 45ms/step\n",
            "\u001b[1m1/1\u001b[0m \u001b[32m━━━━━━━━━━━━━━━━━━━━\u001b[0m\u001b[37m\u001b[0m \u001b[1m0s\u001b[0m 46ms/step\n",
            "\u001b[1m1/1\u001b[0m \u001b[32m━━━━━━━━━━━━━━━━━━━━\u001b[0m\u001b[37m\u001b[0m \u001b[1m0s\u001b[0m 59ms/step\n",
            "\u001b[1m1/1\u001b[0m \u001b[32m━━━━━━━━━━━━━━━━━━━━\u001b[0m\u001b[37m\u001b[0m \u001b[1m0s\u001b[0m 45ms/step\n",
            "\u001b[1m1/1\u001b[0m \u001b[32m━━━━━━━━━━━━━━━━━━━━\u001b[0m\u001b[37m\u001b[0m \u001b[1m0s\u001b[0m 47ms/step\n",
            "\u001b[1m1/1\u001b[0m \u001b[32m━━━━━━━━━━━━━━━━━━━━\u001b[0m\u001b[37m\u001b[0m \u001b[1m0s\u001b[0m 47ms/step\n",
            "\u001b[1m1/1\u001b[0m \u001b[32m━━━━━━━━━━━━━━━━━━━━\u001b[0m\u001b[37m\u001b[0m \u001b[1m0s\u001b[0m 44ms/step\n",
            "\u001b[1m1/1\u001b[0m \u001b[32m━━━━━━━━━━━━━━━━━━━━\u001b[0m\u001b[37m\u001b[0m \u001b[1m0s\u001b[0m 44ms/step\n",
            "\u001b[1m1/1\u001b[0m \u001b[32m━━━━━━━━━━━━━━━━━━━━\u001b[0m\u001b[37m\u001b[0m \u001b[1m0s\u001b[0m 47ms/step\n",
            "\u001b[1m1/1\u001b[0m \u001b[32m━━━━━━━━━━━━━━━━━━━━\u001b[0m\u001b[37m\u001b[0m \u001b[1m0s\u001b[0m 52ms/step\n",
            "\u001b[1m1/1\u001b[0m \u001b[32m━━━━━━━━━━━━━━━━━━━━\u001b[0m\u001b[37m\u001b[0m \u001b[1m0s\u001b[0m 44ms/step\n",
            "\u001b[1m1/1\u001b[0m \u001b[32m━━━━━━━━━━━━━━━━━━━━\u001b[0m\u001b[37m\u001b[0m \u001b[1m0s\u001b[0m 49ms/step\n",
            "\u001b[1m1/1\u001b[0m \u001b[32m━━━━━━━━━━━━━━━━━━━━\u001b[0m\u001b[37m\u001b[0m \u001b[1m0s\u001b[0m 45ms/step\n",
            "\u001b[1m1/1\u001b[0m \u001b[32m━━━━━━━━━━━━━━━━━━━━\u001b[0m\u001b[37m\u001b[0m \u001b[1m0s\u001b[0m 44ms/step\n",
            "\u001b[1m1/1\u001b[0m \u001b[32m━━━━━━━━━━━━━━━━━━━━\u001b[0m\u001b[37m\u001b[0m \u001b[1m0s\u001b[0m 48ms/step\n",
            "\u001b[1m1/1\u001b[0m \u001b[32m━━━━━━━━━━━━━━━━━━━━\u001b[0m\u001b[37m\u001b[0m \u001b[1m0s\u001b[0m 45ms/step\n",
            "\u001b[1m1/1\u001b[0m \u001b[32m━━━━━━━━━━━━━━━━━━━━\u001b[0m\u001b[37m\u001b[0m \u001b[1m0s\u001b[0m 44ms/step\n",
            "\u001b[1m1/1\u001b[0m \u001b[32m━━━━━━━━━━━━━━━━━━━━\u001b[0m\u001b[37m\u001b[0m \u001b[1m0s\u001b[0m 45ms/step\n",
            "\u001b[1m1/1\u001b[0m \u001b[32m━━━━━━━━━━━━━━━━━━━━\u001b[0m\u001b[37m\u001b[0m \u001b[1m0s\u001b[0m 46ms/step\n",
            "\u001b[1m1/1\u001b[0m \u001b[32m━━━━━━━━━━━━━━━━━━━━\u001b[0m\u001b[37m\u001b[0m \u001b[1m0s\u001b[0m 43ms/step\n",
            "\u001b[1m1/1\u001b[0m \u001b[32m━━━━━━━━━━━━━━━━━━━━\u001b[0m\u001b[37m\u001b[0m \u001b[1m0s\u001b[0m 43ms/step\n",
            "\u001b[1m1/1\u001b[0m \u001b[32m━━━━━━━━━━━━━━━━━━━━\u001b[0m\u001b[37m\u001b[0m \u001b[1m0s\u001b[0m 43ms/step\n",
            "\u001b[1m1/1\u001b[0m \u001b[32m━━━━━━━━━━━━━━━━━━━━\u001b[0m\u001b[37m\u001b[0m \u001b[1m0s\u001b[0m 50ms/step\n",
            "\u001b[1m1/1\u001b[0m \u001b[32m━━━━━━━━━━━━━━━━━━━━\u001b[0m\u001b[37m\u001b[0m \u001b[1m0s\u001b[0m 46ms/step\n",
            "\u001b[1m1/1\u001b[0m \u001b[32m━━━━━━━━━━━━━━━━━━━━\u001b[0m\u001b[37m\u001b[0m \u001b[1m0s\u001b[0m 46ms/step\n",
            "\u001b[1m1/1\u001b[0m \u001b[32m━━━━━━━━━━━━━━━━━━━━\u001b[0m\u001b[37m\u001b[0m \u001b[1m0s\u001b[0m 47ms/step\n",
            "\u001b[1m1/1\u001b[0m \u001b[32m━━━━━━━━━━━━━━━━━━━━\u001b[0m\u001b[37m\u001b[0m \u001b[1m0s\u001b[0m 46ms/step\n",
            "\u001b[1m1/1\u001b[0m \u001b[32m━━━━━━━━━━━━━━━━━━━━\u001b[0m\u001b[37m\u001b[0m \u001b[1m0s\u001b[0m 46ms/step\n",
            "\u001b[1m1/1\u001b[0m \u001b[32m━━━━━━━━━━━━━━━━━━━━\u001b[0m\u001b[37m\u001b[0m \u001b[1m0s\u001b[0m 55ms/step\n",
            "\u001b[1m1/1\u001b[0m \u001b[32m━━━━━━━━━━━━━━━━━━━━\u001b[0m\u001b[37m\u001b[0m \u001b[1m0s\u001b[0m 43ms/step\n",
            "\u001b[1m1/1\u001b[0m \u001b[32m━━━━━━━━━━━━━━━━━━━━\u001b[0m\u001b[37m\u001b[0m \u001b[1m0s\u001b[0m 45ms/step\n",
            "\u001b[1m1/1\u001b[0m \u001b[32m━━━━━━━━━━━━━━━━━━━━\u001b[0m\u001b[37m\u001b[0m \u001b[1m0s\u001b[0m 48ms/step\n",
            "\u001b[1m1/1\u001b[0m \u001b[32m━━━━━━━━━━━━━━━━━━━━\u001b[0m\u001b[37m\u001b[0m \u001b[1m0s\u001b[0m 43ms/step\n",
            "\u001b[1m1/1\u001b[0m \u001b[32m━━━━━━━━━━━━━━━━━━━━\u001b[0m\u001b[37m\u001b[0m \u001b[1m0s\u001b[0m 43ms/step\n",
            "\u001b[1m1/1\u001b[0m \u001b[32m━━━━━━━━━━━━━━━━━━━━\u001b[0m\u001b[37m\u001b[0m \u001b[1m0s\u001b[0m 51ms/step\n",
            "\u001b[1m1/1\u001b[0m \u001b[32m━━━━━━━━━━━━━━━━━━━━\u001b[0m\u001b[37m\u001b[0m \u001b[1m0s\u001b[0m 45ms/step\n",
            "\u001b[1m1/1\u001b[0m \u001b[32m━━━━━━━━━━━━━━━━━━━━\u001b[0m\u001b[37m\u001b[0m \u001b[1m0s\u001b[0m 47ms/step\n",
            "\u001b[1m1/1\u001b[0m \u001b[32m━━━━━━━━━━━━━━━━━━━━\u001b[0m\u001b[37m\u001b[0m \u001b[1m0s\u001b[0m 46ms/step\n",
            "\u001b[1m1/1\u001b[0m \u001b[32m━━━━━━━━━━━━━━━━━━━━\u001b[0m\u001b[37m\u001b[0m \u001b[1m0s\u001b[0m 56ms/step\n",
            "\u001b[1m1/1\u001b[0m \u001b[32m━━━━━━━━━━━━━━━━━━━━\u001b[0m\u001b[37m\u001b[0m \u001b[1m0s\u001b[0m 50ms/step\n",
            "\u001b[1m1/1\u001b[0m \u001b[32m━━━━━━━━━━━━━━━━━━━━\u001b[0m\u001b[37m\u001b[0m \u001b[1m0s\u001b[0m 47ms/step\n",
            "\u001b[1m1/1\u001b[0m \u001b[32m━━━━━━━━━━━━━━━━━━━━\u001b[0m\u001b[37m\u001b[0m \u001b[1m0s\u001b[0m 44ms/step\n",
            "\u001b[1m1/1\u001b[0m \u001b[32m━━━━━━━━━━━━━━━━━━━━\u001b[0m\u001b[37m\u001b[0m \u001b[1m0s\u001b[0m 44ms/step\n",
            "\u001b[1m1/1\u001b[0m \u001b[32m━━━━━━━━━━━━━━━━━━━━\u001b[0m\u001b[37m\u001b[0m \u001b[1m0s\u001b[0m 45ms/step\n",
            "\u001b[1m1/1\u001b[0m \u001b[32m━━━━━━━━━━━━━━━━━━━━\u001b[0m\u001b[37m\u001b[0m \u001b[1m0s\u001b[0m 43ms/step\n",
            "\u001b[1m1/1\u001b[0m \u001b[32m━━━━━━━━━━━━━━━━━━━━\u001b[0m\u001b[37m\u001b[0m \u001b[1m0s\u001b[0m 43ms/step\n",
            "\u001b[1m1/1\u001b[0m \u001b[32m━━━━━━━━━━━━━━━━━━━━\u001b[0m\u001b[37m\u001b[0m \u001b[1m0s\u001b[0m 43ms/step\n",
            "\u001b[1m1/1\u001b[0m \u001b[32m━━━━━━━━━━━━━━━━━━━━\u001b[0m\u001b[37m\u001b[0m \u001b[1m0s\u001b[0m 52ms/step\n",
            "\u001b[1m1/1\u001b[0m \u001b[32m━━━━━━━━━━━━━━━━━━━━\u001b[0m\u001b[37m\u001b[0m \u001b[1m0s\u001b[0m 46ms/step\n",
            "\u001b[1m1/1\u001b[0m \u001b[32m━━━━━━━━━━━━━━━━━━━━\u001b[0m\u001b[37m\u001b[0m \u001b[1m0s\u001b[0m 48ms/step\n",
            "\u001b[1m1/1\u001b[0m \u001b[32m━━━━━━━━━━━━━━━━━━━━\u001b[0m\u001b[37m\u001b[0m \u001b[1m0s\u001b[0m 45ms/step\n",
            "\u001b[1m1/1\u001b[0m \u001b[32m━━━━━━━━━━━━━━━━━━━━\u001b[0m\u001b[37m\u001b[0m \u001b[1m0s\u001b[0m 49ms/step\n",
            "\u001b[1m1/1\u001b[0m \u001b[32m━━━━━━━━━━━━━━━━━━━━\u001b[0m\u001b[37m\u001b[0m \u001b[1m0s\u001b[0m 48ms/step\n",
            "\u001b[1m1/1\u001b[0m \u001b[32m━━━━━━━━━━━━━━━━━━━━\u001b[0m\u001b[37m\u001b[0m \u001b[1m0s\u001b[0m 44ms/step\n",
            "\u001b[1m1/1\u001b[0m \u001b[32m━━━━━━━━━━━━━━━━━━━━\u001b[0m\u001b[37m\u001b[0m \u001b[1m0s\u001b[0m 44ms/step\n",
            "\u001b[1m1/1\u001b[0m \u001b[32m━━━━━━━━━━━━━━━━━━━━\u001b[0m\u001b[37m\u001b[0m \u001b[1m0s\u001b[0m 44ms/step\n",
            "\u001b[1m1/1\u001b[0m \u001b[32m━━━━━━━━━━━━━━━━━━━━\u001b[0m\u001b[37m\u001b[0m \u001b[1m0s\u001b[0m 43ms/step\n",
            "\u001b[1m1/1\u001b[0m \u001b[32m━━━━━━━━━━━━━━━━━━━━\u001b[0m\u001b[37m\u001b[0m \u001b[1m0s\u001b[0m 45ms/step\n",
            "\u001b[1m1/1\u001b[0m \u001b[32m━━━━━━━━━━━━━━━━━━━━\u001b[0m\u001b[37m\u001b[0m \u001b[1m0s\u001b[0m 43ms/step\n",
            "\u001b[1m1/1\u001b[0m \u001b[32m━━━━━━━━━━━━━━━━━━━━\u001b[0m\u001b[37m\u001b[0m \u001b[1m0s\u001b[0m 47ms/step\n",
            "Precision: 0.9479\n",
            "Recall:    0.8750\n",
            "F1 Score:  0.9100\n",
            "ROC AUC:   0.9595\n"
          ]
        }
      ]
    },
    {
      "cell_type": "code",
      "source": [],
      "metadata": {
        "id": "tD3turPsuNG6"
      },
      "execution_count": null,
      "outputs": []
    },
    {
      "cell_type": "code",
      "source": [
        "import numpy as np\n",
        "from sklearn.metrics import f1_score\n",
        "\n",
        "def smooth_predictions(preds, window):\n",
        "    return np.convolve(preds, np.ones(window)/window, mode='same')\n",
        "best_f1 = 0\n",
        "best_threshold = 0.5\n",
        "best_window = 1\n",
        "\n",
        "thresholds = np.arange(0.1, 0.9, 0.05)\n",
        "windows = [1, 3, 5, 7, 9, 11]\n",
        "\n",
        "for w in windows:\n",
        "    smoothed = smooth_predictions(np.array(y_pred_probs), w)\n",
        "    for t in thresholds:\n",
        "        preds = (smoothed >= t).astype(int)\n",
        "        score = f1_score(y_true, preds)\n",
        "        if score > best_f1:\n",
        "            best_f1 = score\n",
        "            best_threshold = t\n",
        "            best_window = w\n",
        "\n",
        "print(f\"[BEST CONFIG] Threshold: {best_threshold}, Window: {best_window}, F1 Score: {best_f1:.4f}\")\n"
      ],
      "metadata": {
        "colab": {
          "base_uri": "https://localhost:8080/"
        },
        "id": "wl7Zh78bQ0Ry",
        "outputId": "aabec581-2806-41ef-944e-2dfcd73fa298"
      },
      "execution_count": null,
      "outputs": [
        {
          "output_type": "stream",
          "name": "stdout",
          "text": [
            "[BEST CONFIG] Threshold: 0.5000000000000001, Window: 1, F1 Score: 0.9100\n"
          ]
        }
      ]
    },
    {
      "cell_type": "code",
      "source": [],
      "metadata": {
        "id": "v_kjTmpCuOJh"
      },
      "execution_count": null,
      "outputs": []
    },
    {
      "cell_type": "code",
      "source": [
        "import cv2\n",
        "import numpy as np\n",
        "import tensorflow as tf\n",
        "\n",
        "# ==== CONFIG ====\n",
        "MODEL_PATH = \"weakly_supervised_3dcnn1.h5\"\n",
        "VIDEO_PATH = \"/content/FullSizeRender (2).MOV\"  # Change to your video\n",
        "OUTPUT_PATH = \"output_labeledyy.mp4\"\n",
        "SEGMENT_LENGTH = 32\n",
        "FRAME_SIZE = (96, 96)\n",
        "THRESHOLD = 0.5\n",
        "SMOOTHING_WINDOW = 1\n",
        "\n",
        "# ==== LOAD MODEL ====\n",
        "model = tf.keras.models.load_model(MODEL_PATH)\n",
        "print(\"[INFO] Model loaded.\")\n",
        "\n",
        "# ==== HELPER: segment video into chunks ====\n",
        "def segment_video_for_inference(video_path, segment_length=32):\n",
        "    cap = cv2.VideoCapture(video_path)\n",
        "    frames = []\n",
        "    orig_frames = []\n",
        "    while True:\n",
        "        ret, frame = cap.read()\n",
        "        if not ret:\n",
        "            break\n",
        "        orig_frames.append(frame.copy())\n",
        "        frame_resized = cv2.resize(frame, FRAME_SIZE)\n",
        "        frame_resized = cv2.cvtColor(frame_resized, cv2.COLOR_BGR2RGB) / 255.0\n",
        "        frames.append(frame_resized)\n",
        "    cap.release()\n",
        "\n",
        "    # Create 32-frame segments\n",
        "    segments = []\n",
        "    segment_indices = []  # store starting frame index of each segment\n",
        "    for i in range(0, len(frames) - segment_length + 1, segment_length):\n",
        "        segments.append(np.array(frames[i:i+segment_length]))\n",
        "        segment_indices.append(i)\n",
        "    return np.array(segments), segment_indices, orig_frames\n",
        "\n",
        "# ==== SMOOTHING ====\n",
        "def smooth_predictions(preds, window=3):\n",
        "    return np.convolve(preds, np.ones(window)/window, mode='same')\n",
        "\n",
        "# ==== LOAD VIDEO ====\n",
        "segments, segment_indices, orig_frames = segment_video_for_inference(VIDEO_PATH, SEGMENT_LENGTH)\n",
        "print(f\"[INFO] Total segments: {len(segments)}\")\n",
        "\n",
        "# ==== PREDICT ====\n",
        "preds = model.predict(segments).flatten()\n",
        "preds_smooth = smooth_predictions(preds, SMOOTHING_WINDOW)\n",
        "labels = (preds_smooth >= THRESHOLD).astype(int)\n",
        "\n",
        "# ==== CREATE OUTPUT VIDEO ====\n",
        "height, width = orig_frames[0].shape[:2]\n",
        "fourcc = cv2.VideoWriter_fourcc(*'mp4v')\n",
        "out = cv2.VideoWriter(OUTPUT_PATH, fourcc, 30, (width, height))\n",
        "\n",
        "# Assign segment labels to frames\n",
        "frame_labels = np.zeros(len(orig_frames), dtype=int)\n",
        "for seg_idx, start_frame in enumerate(segment_indices):\n",
        "    frame_labels[start_frame:start_frame+SEGMENT_LENGTH] = labels[seg_idx]\n",
        "\n",
        "# Write frames with labels\n",
        "for idx, frame in enumerate(orig_frames):\n",
        "    label_val = frame_labels[idx]\n",
        "    label_text = f\"{label_val}\"\n",
        "    color = (0, 0, 255) if label_val == 1 else (0, 255, 0)  # Red for accident, green for normal\n",
        "\n",
        "    cv2.putText(frame, f\"Label: {label_text}\", (30, 50),\n",
        "                cv2.FONT_HERSHEY_SIMPLEX, 1.2, color, 3)\n",
        "    out.write(frame)\n",
        "\n",
        "out.release()\n",
        "print(f\"[INFO] Labeled video saved to {OUTPUT_PATH}\")"
      ],
      "metadata": {
        "colab": {
          "base_uri": "https://localhost:8080/"
        },
        "id": "wTHE6RRxRMrJ",
        "outputId": "9c020bde-5ada-4ca3-cb45-fecfff0c73d0"
      },
      "execution_count": null,
      "outputs": [
        {
          "output_type": "stream",
          "name": "stderr",
          "text": [
            "WARNING:absl:Compiled the loaded model, but the compiled metrics have yet to be built. `model.compile_metrics` will be empty until you train or evaluate the model.\n"
          ]
        },
        {
          "output_type": "stream",
          "name": "stdout",
          "text": [
            "[INFO] Model loaded.\n",
            "[INFO] Total segments: 22\n",
            "\u001b[1m1/1\u001b[0m \u001b[32m━━━━━━━━━━━━━━━━━━━━\u001b[0m\u001b[37m\u001b[0m \u001b[1m2s\u001b[0m 2s/step\n",
            "[INFO] Labeled video saved to output_labeledyy.mp4\n"
          ]
        }
      ]
    }
  ]
}